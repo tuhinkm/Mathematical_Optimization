{
  "nbformat": 4,
  "nbformat_minor": 0,
  "metadata": {
    "colab": {
      "provenance": [],
      "authorship_tag": "ABX9TyMcrP/nYtpRQritm89+bS3Q"
    },
    "kernelspec": {
      "name": "python3",
      "display_name": "Python 3"
    },
    "language_info": {
      "name": "python"
    }
  },
  "cells": [
    {
      "cell_type": "markdown",
      "source": [
        "# Configure non-linear integer optimization problem in Genetic Algorithm"
      ],
      "metadata": {
        "id": "fe3lQncyZPIA"
      }
    },
    {
      "cell_type": "markdown",
      "source": [
        "Genetic Algorithm is one of oldest heuristic algorithm designed to find solution in the space of Operations Research. Many python programs are written on various application of GA in different famous problems. However, design a GA in case of real world problem like non-linear and constrained solution is difficult to find. In this notebook, not only we shall solve this, but we shall create kind of code base which can be tweaked for similar and more complex solution."
      ],
      "metadata": {
        "id": "XzkYZ00tZioD"
      }
    },
    {
      "cell_type": "markdown",
      "source": [
        "## Problem Statement - Modified Rosenbrok Function\n",
        "\n",
        "maximize z = 120 * (x1 - x1*x2)^2 + 100 * (x2 - x1^2)^3\n",
        "\n",
        "x1 + x2 <= 49 ---------- (1)\n",
        "2*x1 + x2^2 <= 166 -------- (2)\n",
        "x1, x2>0 -------------- (3)\n"
      ],
      "metadata": {
        "id": "aI0NjrEEajjA"
      }
    },
    {
      "cell_type": "code",
      "execution_count": 68,
      "metadata": {
        "id": "7itgFmViYfUD"
      },
      "outputs": [],
      "source": [
        "import random\n",
        "# random.seed(23)\n",
        "\n",
        "# parameter initialization\n",
        "max_val_x1 = 48 # maximum value of x1 possible\n",
        "max_val_x2 = 48 # maximum value of x2 possible\n",
        "pop_size = 50 # population size; preferred to be as maximum as possible\n",
        "\n",
        "max_iter = 100 # maximum numebr of iteration run\n",
        "max_repeat = 20  #\n",
        "\n",
        "# variable space preparation\n",
        "input_array_x1 = [i+1 for i in range(max_val_x1)] # possible list of x1 values\n",
        "input_array_x2 = [i+1 for i in range(max_val_x2)] # possible list of x2 values\n",
        "max_length_x1 = len(bin(input_array_x1[-1]))-2 # After binary conversion, what is the maximum length of x1\n",
        "max_length_x2 = len(bin(input_array_x2[-1]))-2 # After binary conversion, what is the maximum length of x2"
      ]
    },
    {
      "cell_type": "code",
      "source": [
        "# Auxillary Functions - set I\n",
        "\n",
        "def convert_to_binary(number, length):\n",
        "  '''\n",
        "  Converts a number to binary with defined length with pre-filled zeros at the beginning\n",
        "  '''\n",
        "  return format(number, f'0{length}b')\n",
        "\n",
        "def create_chromosome(input_array, length):\n",
        "  '''\n",
        "  Create chromosomes from a randomly selected value from input array\n",
        "  '''\n",
        "  val = random.choice(input_array)\n",
        "  return(convert_to_binary(val, length))\n",
        "\n",
        "def create_initial_population(input_array_x1, input_array_x2, pop_size, max_length_x1, max_length_x2):\n",
        "  '''\n",
        "  Create initial population of chromosomes\n",
        "  '''\n",
        "  population = []\n",
        "  while len(population) <pop_size:\n",
        "      chromosome1 = create_chromosome(input_array_x1, max_length_x1)\n",
        "      chromosome2 = create_chromosome(input_array_x2, max_length_x2)\n",
        "      # check pair validity\n",
        "      validity = chromosome_validation(chromosome1, chromosome2)\n",
        "      if (validity == 1):\n",
        "          population.append([chromosome1, chromosome2])\n",
        "  return population"
      ],
      "metadata": {
        "id": "52wQYDvpcft-"
      },
      "execution_count": 69,
      "outputs": []
    },
    {
      "cell_type": "code",
      "source": [
        "# Auxillary Functions - set II\n",
        "\n",
        "def constraint_validation1(chromosome1, chromosome2):\n",
        "  '''\n",
        "  Check if the constraint number 1 is violated or not\n",
        "  '''\n",
        "  value = int(chromosome1,2) + int(chromosome2,2)\n",
        "  if value>49:\n",
        "      return 0\n",
        "  else:\n",
        "      return 1\n",
        "\n",
        "def constraint_validation2(chromosome1, chromosome2):\n",
        "  '''\n",
        "  Check if the constraint number 2 is violated or not\n",
        "  '''\n",
        "  value = int(chromosome1,2)*2 + int(chromosome2,2)**2\n",
        "  if value>166:\n",
        "      return 0\n",
        "  else:\n",
        "      return 1\n",
        "\n",
        "def chromosome_validation(chromosome1, chromosome2):\n",
        "  '''\n",
        "  Check overall if a chromosome validates all the constraints or not\n",
        "  '''\n",
        "  status1 = constraint_validation1(chromosome1, chromosome2)\n",
        "  status2 = constraint_validation2(chromosome1, chromosome2)\n",
        "  return(status1*status2)\n",
        "\n",
        "def cross_breeding(chromosome1, chromosome2):\n",
        "  '''\n",
        "  Cross breeding of two chromosomes\n",
        "  '''\n",
        "  new_chromosome = ''\n",
        "  for g1, g2 in zip(chromosome1, chromosome2):\n",
        "      if(random.random()<0.9):\n",
        "          new_chromosome = new_chromosome + str(random.choice([g1,g2]))\n",
        "      else:\n",
        "          new_chromosome = new_chromosome + str(random.choice(['1','0']))\n",
        "  return new_chromosome\n",
        "\n",
        "def validated_new_chromosome(pair_1, pair_2):\n",
        "  '''\n",
        "  This function ensures that we have chromosomes which validate all the constraints. Until such chromosoem is obtained, the iteration will continue\n",
        "  '''\n",
        "  x1 = pair_1[0]\n",
        "  x1_hash = pair_2[0]\n",
        "  x2 = pair_1[1]\n",
        "  x2_hash = pair_2[1]\n",
        "  is_valid = 0\n",
        "\n",
        "  while (is_valid != 1):\n",
        "    x1_new = cross_breeding(x1, x1_hash)\n",
        "    x2_new = cross_breeding(x2, x2_hash)\n",
        "    is_valid = chromosome_validation(x1_new, x2_new)\n",
        "\n",
        "  return ([x1_new, x2_new])"
      ],
      "metadata": {
        "id": "SK62BrNudWAG"
      },
      "execution_count": 70,
      "outputs": []
    },
    {
      "cell_type": "code",
      "source": [
        "# Auxillary Function III\n",
        "def create_new_generation(sorted_population, pop_size):\n",
        "  '''\n",
        "  Create new generation from the sorted population of targeted population size\n",
        "  '''\n",
        "  new_generation = []\n",
        "\n",
        "  # 10% goes to the next generation\n",
        "  s_10 = int(10*pop_size/100)\n",
        "  new_generation.extend(sorted_population[:s_10])\n",
        "\n",
        "  # 60% of top chromosomes will cross-breed and mutate among themselves\n",
        "  s_60 = int(60*pop_size/100)\n",
        "  mating_pool = sorted_population[:s_60]\n",
        "\n",
        "  while len(new_generation) < pop_size:\n",
        "      mutated_pair = validated_new_chromosome(random.choice(mating_pool),\n",
        "                                                    random.choice(mating_pool))\n",
        "      new_generation.append(mutated_pair)\n",
        "  return new_generation\n",
        "\n",
        "def objective_value(pair):\n",
        "  '''\n",
        "  Objective function to be maximized\n",
        "  '''\n",
        "  x1=int(pair[0],2)\n",
        "  x2=int(pair[1],2)\n",
        "  value = 120*(x1 - x1*x2)**2 + 100*(x2 - x1**2)**3\n",
        "  return value\n",
        "\n",
        "def stopping_condition(previous_val, current_val, current_iter, max_iter, value_count, max_repeat):\n",
        "  '''\n",
        "  condition 1 : iteration numbers reached\n",
        "  condition 2 : no improvements for last n iterations\n",
        "  there can also be a local dip. Hence, we need to store best generation\n",
        "  after every iteration\n",
        "  '''\n",
        "  if(current_val>previous_val):\n",
        "      previous_val = current_val\n",
        "      value_count = 0\n",
        "  if(current_val == previous_val):\n",
        "      value_count+=1\n",
        "\n",
        "  if((current_iter>=max_iter) or (value_count>=max_repeat)):\n",
        "      return 0, value_count, previous_val\n",
        "  else:\n",
        "      return 1, value_count, previous_val"
      ],
      "metadata": {
        "id": "jw8hZwgIdapC"
      },
      "execution_count": 71,
      "outputs": []
    },
    {
      "cell_type": "code",
      "source": [
        "###------ Actual Run Function ------###\n",
        "\n",
        "# initial population generation\n",
        "init_pop = create_initial_population(input_array_x1, input_array_x2, pop_size, max_length_x1, max_length_x2)\n",
        "\n",
        "# initialize runtime parameters\n",
        "current_pop = init_pop\n",
        "current_iter = 0\n",
        "previous_val = 0\n",
        "current_val = 0\n",
        "value_count = 0\n",
        "\n",
        "# First run output\n",
        "sorted_pop = sorted(current_pop, key=lambda x : objective_value(x), reverse=1)\n",
        "best_pair = sorted_pop[0]\n",
        "current_val = objective_value(best_pair)\n",
        "\n",
        "# validate stopping condition\n",
        "cont_iter, value_count, previous_val = stopping_condition(previous_val, current_val, current_iter, max_iter, value_count, max_repeat)"
      ],
      "metadata": {
        "id": "hZwFS6p2huGJ"
      },
      "execution_count": 72,
      "outputs": []
    },
    {
      "cell_type": "code",
      "source": [
        "# Run remaining iterations\n",
        "\n",
        "while (cont_iter>0):\n",
        "\n",
        "    new_gen = create_new_generation(sorted_pop, pop_size)\n",
        "    sorted_pop = sorted(new_gen, key=lambda x : objective_value(x), reverse=1)\n",
        "    best_pair = sorted_pop[0]\n",
        "    current_val = objective_value(best_pair)\n",
        "    print(\"Current Iteration : \", current_iter+1)\n",
        "    print(\"Current Best Value : \", current_val)\n",
        "    cont_iter, value_count, previous_val = stopping_condition(previous_val, current_val, current_iter, max_iter, value_count, max_repeat)\n",
        "    current_iter+=1\n",
        "\n",
        "print(\"Optimum Value : \", previous_val)\n",
        "print(\"X1 : \", int(best_pair[0],2))\n",
        "print(\"X2 : \", int(best_pair[1],2))"
      ],
      "metadata": {
        "colab": {
          "base_uri": "https://localhost:8080/"
        },
        "id": "8MySznnXicW_",
        "outputId": "6dfec4fa-2914-427a-a022-54b5306fe020"
      },
      "execution_count": 73,
      "outputs": [
        {
          "output_type": "stream",
          "name": "stdout",
          "text": [
            "Current Iteration :  1\n",
            "Current Best Value :  133920\n",
            "Current Iteration :  2\n",
            "Current Best Value :  133920\n",
            "Current Iteration :  3\n",
            "Current Best Value :  133920\n",
            "Current Iteration :  4\n",
            "Current Best Value :  133920\n",
            "Current Iteration :  5\n",
            "Current Best Value :  172800\n",
            "Current Iteration :  6\n",
            "Current Best Value :  179500\n",
            "Current Iteration :  7\n",
            "Current Best Value :  225920\n",
            "Current Iteration :  8\n",
            "Current Best Value :  225920\n",
            "Current Iteration :  9\n",
            "Current Best Value :  225920\n",
            "Current Iteration :  10\n",
            "Current Best Value :  225920\n",
            "Current Iteration :  11\n",
            "Current Best Value :  225920\n",
            "Current Iteration :  12\n",
            "Current Best Value :  225920\n",
            "Current Iteration :  13\n",
            "Current Best Value :  225920\n",
            "Current Iteration :  14\n",
            "Current Best Value :  225920\n",
            "Current Iteration :  15\n",
            "Current Best Value :  225920\n",
            "Current Iteration :  16\n",
            "Current Best Value :  225920\n",
            "Current Iteration :  17\n",
            "Current Best Value :  225920\n",
            "Current Iteration :  18\n",
            "Current Best Value :  225920\n",
            "Current Iteration :  19\n",
            "Current Best Value :  225920\n",
            "Current Iteration :  20\n",
            "Current Best Value :  225920\n",
            "Current Iteration :  21\n",
            "Current Best Value :  225920\n",
            "Current Iteration :  22\n",
            "Current Best Value :  225920\n",
            "Current Iteration :  23\n",
            "Current Best Value :  225920\n",
            "Current Iteration :  24\n",
            "Current Best Value :  225920\n",
            "Current Iteration :  25\n",
            "Current Best Value :  225920\n",
            "Current Iteration :  26\n",
            "Current Best Value :  225920\n",
            "Optimum Value :  225920\n",
            "X1 :  4\n",
            "X2 :  12\n"
          ]
        }
      ]
    }
  ]
}